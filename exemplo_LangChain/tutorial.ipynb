{
 "cells": [
  {
   "cell_type": "markdown",
   "metadata": {},
   "source": [
    "# CPS769 - Introdução à Inteligência Artificial e Aprendizagem Generativa\n",
    "\n",
    "Este repositório contém as listas de exercícios da disciplina CPS769 - Introdução à Inteligência Artificial e Aprendizagem Generativa, do Programa de Engenharia de Sistemas e Computação (PESC) do Instituto Alberto Luiz Coimbra de Pós-Graduação e Pesquisa de Engenharia (COPPE/UFRJ).\n",
    "\n",
    "## LangChain\n",
    "\n",
    "LangChain é uma estrutura para desenvolver aplicações usando modelos de linguagem grandes (LLMs). Simplifica o ciclo de vida dessas aplicações com componentes de código aberto, suporte para agentes com estados e streaming, e integração com ferramentas de monitoramento e implantação. Inclui bibliotecas como `langchain-core`, `langchain-community`, `LangGraph` e `LangServe` para criar e gerenciar aplicações complexas. Há guias e tutoriais disponíveis para ajudar na construção de chatbots, agentes e outras aplicações específicas.\n",
    "\n",
    "Para mais detalhes, acesse [LangChain Introduction](https://python.langchain.com/v0.2/docs/introduction/).\n",
    "\n",
    "## Objetivo\n",
    "\n",
    "O objetivo desta atividade é se familiarizar com LangChain, seguindo o tutorial [How to return structured data from a model](https://python.langchain.com/v0.2/docs/how_to/structured_output/).\n",
    "\n",
    "O tutorial ensina como retornar dados estruturados de um modelo utilizando o método `.with_structured_output()` em LangChain. Este método facilita a obtenção de saídas que correspondem a um esquema específico, útil para inserir dados em bancos de dados ou sistemas downstream. O tutorial explica como definir esquemas usando JSON Schema ou classes Pydantic, e como implementar exemplos práticos, como separar a introdução e o desfecho de uma piada.\n",
    "\n",
    "## Execução do Tutorial"
   ]
  },
  {
   "cell_type": "markdown",
   "metadata": {},
   "source": [
    "Fazendo com que um modelo gere uma piada e separe a introdução da conclusão."
   ]
  },
  {
   "cell_type": "code",
   "execution_count": 3,
   "metadata": {},
   "outputs": [
    {
     "ename": "ValidationError",
     "evalue": "1 validation error for ChatOpenAI\n__root__\n  Did not find openai_api_key, please add an environment variable `OPENAI_API_KEY` which contains it, or pass `openai_api_key` as a named parameter. (type=value_error)",
     "output_type": "error",
     "traceback": [
      "\u001b[1;31m---------------------------------------------------------------------------\u001b[0m",
      "\u001b[1;31mValidationError\u001b[0m                           Traceback (most recent call last)",
      "Cell \u001b[1;32mIn[3], line 9\u001b[0m\n\u001b[0;32m      5\u001b[0m os\u001b[38;5;241m.\u001b[39menviron[OPENAI_API_KEY] \u001b[38;5;241m=\u001b[39m getpass\u001b[38;5;241m.\u001b[39mgetpass()\n\u001b[0;32m      7\u001b[0m \u001b[38;5;28;01mfrom\u001b[39;00m \u001b[38;5;21;01mlangchain_openai\u001b[39;00m \u001b[38;5;28;01mimport\u001b[39;00m ChatOpenAI\n\u001b[1;32m----> 9\u001b[0m llm \u001b[38;5;241m=\u001b[39m \u001b[43mChatOpenAI\u001b[49m\u001b[43m(\u001b[49m\u001b[43mmodel\u001b[49m\u001b[38;5;241;43m=\u001b[39;49m\u001b[38;5;124;43m\"\u001b[39;49m\u001b[38;5;124;43mgpt-4o-mini\u001b[39;49m\u001b[38;5;124;43m\"\u001b[39;49m\u001b[43m)\u001b[49m\n",
      "File \u001b[1;32mc:\\Users\\lhsca\\OneDrive\\Documentos\\Estudos\\Mestrado\\Disciplinas\\IA Generativa\\Listas\\.venv\\Lib\\site-packages\\pydantic\\v1\\main.py:341\u001b[0m, in \u001b[0;36mBaseModel.__init__\u001b[1;34m(__pydantic_self__, **data)\u001b[0m\n\u001b[0;32m    339\u001b[0m values, fields_set, validation_error \u001b[38;5;241m=\u001b[39m validate_model(__pydantic_self__\u001b[38;5;241m.\u001b[39m\u001b[38;5;18m__class__\u001b[39m, data)\n\u001b[0;32m    340\u001b[0m \u001b[38;5;28;01mif\u001b[39;00m validation_error:\n\u001b[1;32m--> 341\u001b[0m     \u001b[38;5;28;01mraise\u001b[39;00m validation_error\n\u001b[0;32m    342\u001b[0m \u001b[38;5;28;01mtry\u001b[39;00m:\n\u001b[0;32m    343\u001b[0m     object_setattr(__pydantic_self__, \u001b[38;5;124m'\u001b[39m\u001b[38;5;124m__dict__\u001b[39m\u001b[38;5;124m'\u001b[39m, values)\n",
      "\u001b[1;31mValidationError\u001b[0m: 1 validation error for ChatOpenAI\n__root__\n  Did not find openai_api_key, please add an environment variable `OPENAI_API_KEY` which contains it, or pass `openai_api_key` as a named parameter. (type=value_error)"
     ]
    }
   ],
   "source": [
    "import getpass\n",
    "import os\n",
    "from env import OPENAI_API_KEY # key armazenada em um arquivo que está no .gitignore para manter o sigilo\n",
    "\n",
    "os.environ[OPENAI_API_KEY] = getpass.getpass()\n",
    "\n",
    "from langchain_openai import ChatOpenAI\n",
    "\n",
    "llm = ChatOpenAI(model=\"gpt-4o-mini\")"
   ]
  }
 ],
 "metadata": {
  "kernelspec": {
   "display_name": ".venv",
   "language": "python",
   "name": "python3"
  },
  "language_info": {
   "codemirror_mode": {
    "name": "ipython",
    "version": 3
   },
   "file_extension": ".py",
   "mimetype": "text/x-python",
   "name": "python",
   "nbconvert_exporter": "python",
   "pygments_lexer": "ipython3",
   "version": "3.11.7"
  }
 },
 "nbformat": 4,
 "nbformat_minor": 2
}
